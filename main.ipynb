{
 "cells": [
  {
   "cell_type": "code",
   "execution_count": 1,
   "metadata": {},
   "outputs": [
    {
     "name": "stdout",
     "output_type": "stream",
     "text": [
      "2024-12-05 11:21:09,165 (DEBUG): Welcome to IPS - the Interatomic Potential Suite!\n"
     ]
    },
    {
     "name": "stderr",
     "output_type": "stream",
     "text": [
      "/tikhome/jpeters/miniconda3/envs/BA/lib/python3.11/site-packages/tqdm/auto.py:21: TqdmWarning: IProgress not found. Please update jupyter and ipywidgets. See https://ipywidgets.readthedocs.io/en/stable/user_install.html\n",
      "  from .autonotebook import tqdm as notebook_tqdm\n",
      "WARNING: All log messages before absl::InitializeLog() is called are written to STDERR\n",
      "I0000 00:00:1733394075.505165 1132165 cuda_executor.cc:1015] successful NUMA node read from SysFS had negative value (-1), but there must be at least one NUMA node, so returning NUMA node zero. See more at https://github.com/torvalds/linux/blob/v6.0/Documentation/ABI/testing/sysfs-bus-pci#L344-L355\n"
     ]
    }
   ],
   "source": [
    "import ipsuite as ips\n",
    "import numpy as np\n",
    "from ipsuite import OrcaSinglePoint\n",
    "from src import ShuffleAndSelect, FixEnergy\n",
    "from apax.nodes import Apax, ApaxBatchPrediction"
   ]
  },
  {
   "cell_type": "code",
   "execution_count": 2,
   "metadata": {},
   "outputs": [],
   "source": [
    "project = ips.Project(remove_existing_graph=True, automatic_node_names=True)"
   ]
  },
  {
   "cell_type": "markdown",
   "metadata": {},
   "source": [
    "# Data Generation"
   ]
  },
  {
   "cell_type": "code",
   "execution_count": 3,
   "metadata": {},
   "outputs": [],
   "source": [
    "with project.group(\"DataGeneration\"):\n",
    "    # Load entire MLIP-MD trajectory\n",
    "    traditional_md = ips.AddDataH5MD(file=\"data/traditional_md.h5\")\n",
    "    enhanced_sampling_md = ips.AddDataH5MD(file=\"data/enhanced_md.h5\")\n",
    "    # TODO: METAD MD\n",
    "\n",
    "    # Load Random Configurations from MD files\n",
    "    trad_dataset = ips.RandomSelection(data=traditional_md.frames, n_configurations=500)\n",
    "    rand_trad_dataset = ips.RandomSelection(data=trad_dataset.excluded_frames, n_configurations=500)\n",
    "    es_dataset = ips.RandomSelection(data=enhanced_sampling_md.frames, n_configurations=500)\n",
    "\n",
    "    # Flatten Energies\n",
    "    raw_datasets = [trad_dataset, rand_trad_dataset, es_dataset]\n",
    "    datasets = []\n",
    "    for data in raw_datasets:\n",
    "        datasets.append(FixEnergy(data = data.frames))\n",
    "\n",
    "    dft = []\n",
    "    for data in datasets:\n",
    "        dft.append(\n",
    "            OrcaSinglePoint(\n",
    "                data=data.frames,\n",
    "                orcasimpleinput=\"PBE def2-TZVP TightSCF EnGrad\",\n",
    "                orcablocks=\"%pal nprocs 8 end\",\n",
    "                orca_shell=\"/data/fzills/tools/orca_5_0_4/orca\",\n",
    "            ))\n",
    "        \n",
    "    # Split Datasets into Test,Train and Validate Data\n",
    "    split_datasets = []\n",
    "    \n",
    "    for data in dft:\n",
    "        split_datasets.append(\n",
    "            ShuffleAndSelect(\n",
    "                data=data.frames,\n",
    "                n_train=20, \n",
    "                n_test=400, \n",
    "                n_validate=20,\n",
    "            ))"
   ]
  },
  {
   "cell_type": "markdown",
   "metadata": {},
   "source": [
    "# Model Training"
   ]
  },
  {
   "cell_type": "code",
   "execution_count": null,
   "metadata": {},
   "outputs": [],
   "source": [
    "with project.group(\"ModelTraining\"):\n",
    "    base_model = Apax(\n",
    "        data=split_datasets[0].train_frames,\n",
    "        validation_data=split_datasets[0].validate_frames,\n",
    "        config=\"configs/base_train.yaml\",\n",
    "    )\n",
    "\n",
    "    r_trad_model = Apax(\n",
    "        model = base_model,\n",
    "        data=split_datasets[1].train_frames,\n",
    "        validation_data=split_datasets[1].validate_frames,\n",
    "        config=\"configs/random_transfer.yaml\",\n",
    "    )\n",
    "    \n",
    "    es_model = Apax(\n",
    "        model = base_model,\n",
    "        data=split_datasets[2].train_frames,\n",
    "        validation_data=split_datasets[2].validate_frames,\n",
    "        config=\"configs/es_transfer.yaml\",\n",
    "    )\n",
    "    models = [base_model, r_trad_model, es_model]"
   ]
  },
  {
   "cell_type": "markdown",
   "metadata": {},
   "source": [
    "# Model Metrics"
   ]
  },
  {
   "cell_type": "code",
   "execution_count": 5,
   "metadata": {},
   "outputs": [],
   "source": [
    "with project.group(\"ModelMetrics\"):\n",
    "    for i in range(len(models)):\n",
    "        # Use ES-Dataset to Test Models as this data covers most of CV space\n",
    "        pred = ApaxBatchPrediction(data=split_datasets[2].test_frames, model=models[i], batch_size=10)\n",
    "        ips.PredictionMetrics(x = split_datasets[2].test_frames, y = pred.frames)"
   ]
  },
  {
   "cell_type": "code",
   "execution_count": 6,
   "metadata": {},
   "outputs": [
    {
     "name": "stdout",
     "output_type": "stream",
     "text": [
      "2024-12-05 11:21:19,496 - INFO: Saving params.yaml\n"
     ]
    },
    {
     "name": "stderr",
     "output_type": "stream",
     "text": [
      "100%|██████████| 23/23 [00:00<00:00, 270.75it/s]\n"
     ]
    }
   ],
   "source": [
    "project.build()"
   ]
  }
 ],
 "metadata": {
  "kernelspec": {
   "display_name": "BA",
   "language": "python",
   "name": "python3"
  },
  "language_info": {
   "codemirror_mode": {
    "name": "ipython",
    "version": 3
   },
   "file_extension": ".py",
   "mimetype": "text/x-python",
   "name": "python",
   "nbconvert_exporter": "python",
   "pygments_lexer": "ipython3",
   "version": "3.11.10"
  }
 },
 "nbformat": 4,
 "nbformat_minor": 2
}
